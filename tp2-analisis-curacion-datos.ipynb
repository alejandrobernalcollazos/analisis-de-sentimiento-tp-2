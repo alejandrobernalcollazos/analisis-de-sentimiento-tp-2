{
 "cells": [
  {
   "cell_type": "markdown",
   "metadata": {},
   "source": [
    "# Trabajo Practico 2 - Analisis y Curación de datos"
   ]
  },
  {
   "cell_type": "markdown",
   "metadata": {},
   "source": [
    "## Ulises Dascalakis"
   ]
  },
  {
   "cell_type": "markdown",
   "metadata": {},
   "source": [
    "Mail : ulises.dasca@live.com.ar"
   ]
  },
  {
   "cell_type": "markdown",
   "metadata": {},
   "source": [
    "## Alejandro Bernal"
   ]
  },
  {
   "cell_type": "markdown",
   "metadata": {},
   "source": [
    "Mail : alejandro@alejandro.bio"
   ]
  },
  {
   "cell_type": "markdown",
   "metadata": {},
   "source": [
    "# Librerias"
   ]
  },
  {
   "cell_type": "code",
   "execution_count": 2,
   "metadata": {},
   "outputs": [],
   "source": [
    "%matplotlib inline\n",
    "from matplotlib import pyplot as plt\n",
    "import pandas as pd\n",
    "import numpy as np\n",
    "\n",
    "# Realicen en esta celda los imports de librerías que necesiten\n",
    "\n",
    "#Importamos Seaborn para dibujar los gráficos\n",
    "import seaborn as sns\n",
    "import matplotlib.pyplot as plt"
   ]
  },
  {
   "cell_type": "markdown",
   "metadata": {},
   "source": [
    "# Importando data set"
   ]
  },
  {
   "cell_type": "code",
   "execution_count": 10,
   "metadata": {},
   "outputs": [],
   "source": [
    "# Importamos el dataset. Ayornen el path del archivo al que ustedes tengan. Así como el nombre del dataset.\n",
    "# Como el dataset fue creado usando como delimitador un tab, si no lo definimos a la hora de importarlo, se va romper.\n",
    "df = pd.read_csv('data/reviews_yelp_nn.csv', sep='\\t')"
   ]
  },
  {
   "cell_type": "markdown",
   "metadata": {},
   "source": [
    "# Análisis de Datos"
   ]
  },
  {
   "cell_type": "code",
   "execution_count": 14,
   "metadata": {},
   "outputs": [
    {
     "data": {
      "text/plain": [
       "['business_id',\n",
       " 'cool',\n",
       " 'date',\n",
       " 'funny',\n",
       " 'review_id',\n",
       " 'stars',\n",
       " 'text',\n",
       " 'useful',\n",
       " 'user_id']"
      ]
     },
     "execution_count": 14,
     "metadata": {},
     "output_type": "execute_result"
    }
   ],
   "source": [
    "# Determinando las features/caracteristicas\n",
    "list(df.columns.values)"
   ]
  },
  {
   "cell_type": "markdown",
   "metadata": {},
   "source": [
    "### Descripción de las features\n",
    "\n",
    "<table>\n",
    "    <tr>\n",
    "        <th>Feature</th>\n",
    "        <th>Tipo de dato</th>\n",
    "        <th>Significado</th>\n",
    "    </tr>\n",
    "    <tr>\n",
    "        <td>review_id</td>\n",
    "        <td>string</td>\n",
    "        <td>id de la review</td>\n",
    "    </tr>\n",
    "    <tr>\n",
    "        <td>user_id</td>\n",
    "        <td>string</td>\n",
    "        <td>id para poder cruzar con otros dataset</td>\n",
    "    </tr>\n",
    "    <tr>\n",
    "        <td>business_id</td>\n",
    "        <td>string</td>\n",
    "        <td>id para poder cruzar con otros dataset.</td>\n",
    "    </tr>\n",
    "    <tr>\n",
    "        <td>stars</td>\n",
    "        <td>int</td>\n",
    "        <td>el rating recibido</td>\n",
    "    </tr>\n",
    "    <tr>\n",
    "        <td>date</td>\n",
    "        <td>fecha</td>\n",
    "        <td>fecha de la review</td>\n",
    "    </tr>\n",
    "    <tr>\n",
    "        <td>text</td>\n",
    "        <td>string</td>\n",
    "        <td>la review misma del negocio</td>\n",
    "    </tr>\n",
    "    <tr>\n",
    "        <td>useful</td>\n",
    "        <td>float</td>\n",
    "        <td>que tan \"útil\" fue la review</td>\n",
    "    </tr>\n",
    "    <tr>\n",
    "        <td>funny</td>\n",
    "        <td>float</td>\n",
    "        <td>que tan \"divertida\" fue la review</td>\n",
    "    </tr>\n",
    "    <tr>\n",
    "        <td>cool</td>\n",
    "        <td>int</td>\n",
    "        <td>que tan \"cool\" fue la review</td>\n",
    "    </tr>\n",
    "</table>"
   ]
  },
  {
   "cell_type": "code",
   "execution_count": 19,
   "metadata": {},
   "outputs": [
    {
     "data": {
      "text/plain": [
       "count                    3342949\n",
       "unique                   3342949\n",
       "top       6fAxaSvpUb37BijdgVRNSg\n",
       "freq                           1\n",
       "Name: review_id, dtype: object"
      ]
     },
     "execution_count": 19,
     "metadata": {},
     "output_type": "execute_result"
    }
   ],
   "source": [
    "### Describiendo los datos de la columna \"review id\"\n",
    "df['review_id'].describe()\n",
    "\n",
    "### El tipo de campo es : String\n",
    "### Todos los valores son únicos y no se repiten lo cual es esperable\n",
    "### Hay 3.342.949 registros "
   ]
  },
  {
   "cell_type": "code",
   "execution_count": 22,
   "metadata": {},
   "outputs": [
    {
     "data": {
      "text/plain": [
       "count                    3342944\n",
       "unique                   1114848\n",
       "top       CxDOIDnH8gp9KXzpBHJYXw\n",
       "freq                        2118\n",
       "Name: user_id, dtype: object"
      ]
     },
     "execution_count": 22,
     "metadata": {},
     "output_type": "execute_result"
    }
   ],
   "source": [
    "### Describiendo los datos de la columna \"user id\"\n",
    "df['user_id'].describe()\n",
    "\n",
    "### El tipo de campo es : String\n",
    "### Hay 3.342.944 registros, lo cual es curioso porque hay 5 registros menos que los ids de review\n",
    "### hay 1.114.848 registros únicos, lo cual es esperable dado que pueden haber más de un registro por usuario"
   ]
  },
  {
   "cell_type": "code",
   "execution_count": 23,
   "metadata": {},
   "outputs": [
    {
     "data": {
      "text/plain": [
       "count                    3342958\n",
       "unique                    186747\n",
       "top       4JNXUYY8wbaaDmk3BPzlWw\n",
       "freq                        4311\n",
       "Name: business_id, dtype: object"
      ]
     },
     "execution_count": 23,
     "metadata": {},
     "output_type": "execute_result"
    }
   ],
   "source": [
    "### Describiendo los datos de la columna \"business id\"\n",
    "df['business_id'].describe()\n",
    "\n",
    "### El tipo de campo es : String\n",
    "### Hay 3.342.958 registros, lo cual es curioso porque hay 9 registros más que los ids de review\n",
    "### hay   186.747 registros únicos, lo cual es esperable puesto que pueden haber varias revisiones para un mismo negocio"
   ]
  },
  {
   "cell_type": "code",
   "execution_count": 45,
   "metadata": {},
   "outputs": [
    {
     "data": {
      "text/plain": [
       "count    3.342949e+06\n",
       "mean     3.716367e+00\n",
       "std      1.463816e+00\n",
       "min      1.000000e+00\n",
       "25%      3.000000e+00\n",
       "50%      4.000000e+00\n",
       "75%      5.000000e+00\n",
       "max      5.000000e+00\n",
       "Name: stars, dtype: float64"
      ]
     },
     "execution_count": 45,
     "metadata": {},
     "output_type": "execute_result"
    }
   ],
   "source": [
    "### Describiendo los datos de la columna \"stars\"\n",
    "df['stars'].describe()\n",
    "\n",
    "### El tipo de campo es : Float\n",
    "### Hay 3.342.949 registros, que son la misma cantidad que ids de reviews\n",
    "### Al ser un campo de punto flotante, los campos estan expresado con una nomenclatura exponencial e+06 ..."
   ]
  },
  {
   "cell_type": "code",
   "execution_count": 46,
   "metadata": {},
   "outputs": [
    {
     "data": {
      "text/plain": [
       "count                 3342953\n",
       "unique                3309298\n",
       "top       2012-07-09 08:22:43\n",
       "freq                        5\n",
       "Name: date, dtype: object"
      ]
     },
     "execution_count": 46,
     "metadata": {},
     "output_type": "execute_result"
    }
   ],
   "source": [
    "### Describiendo los datos de la columna \"date\"\n",
    "df['date'].describe()\n",
    "\n",
    "### El tipo de campo es : Fecha\n",
    "### Hay 3.342.953 registros, lo cual es curioso porque hay 4 registros mas que los ids de reviews\n",
    "### Hay 3.309.298 registros unicos, lo cual es esperable porque en una misma fecha, hora, minuto y segundo pudieron haber varias reviews"
   ]
  },
  {
   "cell_type": "code",
   "execution_count": 32,
   "metadata": {},
   "outputs": [
    {
     "data": {
      "text/plain": [
       "count     3342948\n",
       "unique    3338493\n",
       "top             .\n",
       "freq           12\n",
       "Name: text, dtype: object"
      ]
     },
     "execution_count": 32,
     "metadata": {},
     "output_type": "execute_result"
    }
   ],
   "source": [
    "### Describiendo los datos de la columna \"date\"\n",
    "df['text'].describe()\n",
    "\n",
    "### El tipo de campo es : String\n",
    "### Hay 3.342.948 registros, lo cual es curioso porque hay 1 registro menos que los ids de reviews\n",
    "### Hay 3.338.493 registros unicos, lo cual es esperable porque pudieron haber comentarios iguales para diferentes reviews"
   ]
  },
  {
   "cell_type": "code",
   "execution_count": 39,
   "metadata": {},
   "outputs": [
    {
     "data": {
      "text/plain": [
       "count    3.342944e+06\n",
       "mean     1.352042e+00\n",
       "std      3.645569e+00\n",
       "min     -1.000000e+00\n",
       "25%      0.000000e+00\n",
       "50%      0.000000e+00\n",
       "75%      2.000000e+00\n",
       "max      1.122000e+03\n",
       "Name: useful, dtype: float64"
      ]
     },
     "execution_count": 39,
     "metadata": {},
     "output_type": "execute_result"
    }
   ],
   "source": [
    "### Describiendo los datos de la columna \"date\"\n",
    "df['useful'].describe()\n",
    "\n",
    "### El tipo de campo es : Float\n",
    "### Hay 3.342.944 registros, lo cual es curioso porque hay 5 registros menos que los ids de reviews\n",
    "### El valor maximo es de 1.122 y el mínimo de -1, lo cual es raro porque parecen ser outlayers, porque el promedio es de 1.3"
   ]
  },
  {
   "cell_type": "code",
   "execution_count": 49,
   "metadata": {},
   "outputs": [
    {
     "data": {
      "text/plain": [
       "count    3.342949e+06\n",
       "mean     4.814486e-01\n",
       "std      2.341234e+00\n",
       "min      0.000000e+00\n",
       "25%      0.000000e+00\n",
       "50%      0.000000e+00\n",
       "75%      0.000000e+00\n",
       "max      9.700000e+02\n",
       "Name: funny, dtype: float64"
      ]
     },
     "execution_count": 49,
     "metadata": {},
     "output_type": "execute_result"
    }
   ],
   "source": [
    "### Describiendo los datos de la columna \"funny\"\n",
    "df['funny'].describe()\n",
    "\n",
    "### El tipo de campo es : Float\n",
    "### Hay 3.342.949 registros\n",
    "### El rango de los datos es de 0.0 a 9.7\n",
    "### El promedio de los datos es de 4.8"
   ]
  },
  {
   "cell_type": "code",
   "execution_count": 56,
   "metadata": {},
   "outputs": [
    {
     "data": {
      "text/plain": [
       "count     3342955\n",
       "unique        248\n",
       "top             0\n",
       "freq      2409116\n",
       "Name: cool, dtype: int64"
      ]
     },
     "execution_count": 56,
     "metadata": {},
     "output_type": "execute_result"
    }
   ],
   "source": [
    "### Describiendo los datos de la columna \"cool\"\n",
    "df['cool'].describe()\n",
    "\n",
    "### El tipo de campo es : Int\n",
    "### Hay 3.342.955 registros\n",
    "### Hay       248 registros unicos, lo cual es esperable porque pueden haber varias calificaciones iguales para las diferentes reviews\n",
    "### El rango de los datos es de 0 a 5"
   ]
  },
  {
   "cell_type": "code",
   "execution_count": 9,
   "metadata": {
    "scrolled": true
   },
   "outputs": [
    {
     "name": "stdout",
     "output_type": "stream",
     "text": [
      "<class 'pandas.core.frame.DataFrame'>\n",
      "RangeIndex: 3342958 entries, 0 to 3342957\n",
      "Data columns (total 9 columns):\n",
      "business_id    object\n",
      "cool           object\n",
      "date           object\n",
      "funny          float64\n",
      "review_id      object\n",
      "stars          float64\n",
      "text           object\n",
      "useful         float64\n",
      "user_id        object\n",
      "dtypes: float64(3), object(6)\n",
      "memory usage: 229.5+ MB\n"
     ]
    }
   ],
   "source": [
    "#Usamos la función info de pandas para obtener info del dataframe\n",
    "df.info()\n",
    "\n",
    "#También podemos utilizar dtypes, pero esta función muestra solo los tipos de datos\n",
    "#df.dtypes"
   ]
  },
  {
   "cell_type": "code",
   "execution_count": 7,
   "metadata": {},
   "outputs": [
    {
     "data": {
      "text/plain": [
       "business_id    False\n",
       "cool            True\n",
       "date            True\n",
       "funny           True\n",
       "review_id       True\n",
       "stars           True\n",
       "text            True\n",
       "useful          True\n",
       "user_id         True\n",
       "dtype: bool"
      ]
     },
     "execution_count": 7,
     "metadata": {},
     "output_type": "execute_result"
    }
   ],
   "source": [
    "#1) EVALUAMOS SI HAY REGISTROS NaN\n",
    "df.isnull().any()\n",
    "##VEMOS QUE HAY REGISTROS NULL PARA TODOS LOS CAMPOS MENOS PARA business_id"
   ]
  },
  {
   "cell_type": "code",
   "execution_count": 21,
   "metadata": {},
   "outputs": [
    {
     "name": "stdout",
     "output_type": "stream",
     "text": [
      "Tenemos 9 registros repetidos de un total de 3342958\n"
     ]
    }
   ],
   "source": [
    "##ANALIZAMOS SI TENEMOS REGISTROS REPETIDOS\n",
    "##EVALUAMOS SOBRE REVIEW_ID PORQUE CONSIDERAMOS QUE DEBERÍAN SER VALORES ÚNICOS YA QUE ESTAMOS ANALIZANDO REVIEWS \n",
    "#Y NO DEBERÍA HABER DOS REVIEW CON EL MISMO ID\n",
    "df_nunique = df.groupby('review_id')['review_id'].nunique()\n",
    "registros_unicos = df_nunique.shape[0]\n",
    "registros_totales = df.shape[0]\n",
    "registros_repetidos = registros_totales - registros_unicos\n",
    "print(\"Tenemos \" + str(registros_repetidos) + \" registros repetidos de un total de \" + str(registros_totales))"
   ]
  },
  {
   "cell_type": "code",
   "execution_count": 19,
   "metadata": {},
   "outputs": [
    {
     "name": "stdout",
     "output_type": "stream",
     "text": [
      "Tenemos 73 registros con valores nulos de un total de 3342958 registros totales con una participación del 0.0022%\n"
     ]
    }
   ],
   "source": [
    "#COMO TAMBIÉN TENEMOS VALORES NULOS, DIMENSIONAMOS LOS DATOS QUE PERDEMOS PARA EL ANÁLISIS\n",
    "registros_con_valores_nulos = len(df.isnull().values[df.isnull().values == True])\n",
    "registros_totales = len(df.values)\n",
    "participacion_nulos = ((registros_con_valores_nulos / registros_totales) * 100)\n",
    "print('Encontramos ' + str(registros_con_valores_nulos) \n",
    "      + ' registros con valores nulos de un total de ' + str(registros_totales) + ' registros totales'\n",
    "     + ' con una participación del ' + str(round(participacion_nulos, 4)) + '%')"
   ]
  },
  {
   "cell_type": "code",
   "execution_count": 26,
   "metadata": {},
   "outputs": [
    {
     "name": "stdout",
     "output_type": "stream",
     "text": [
      "Luego de eliminar los registros nulos, nos quedan 3342943 para el análisis\n"
     ]
    }
   ],
   "source": [
    "#ELIMINAMOS LOS REGISTROS CON NULOS \n",
    "df_with_values = df.dropna()\n",
    "registros_totales = df_with_values.shape[0]\n",
    "print(\"Luego de eliminar los registros nulos, nos quedan \" + str(registros_totales) + ' para el análisis')"
   ]
  },
  {
   "cell_type": "code",
   "execution_count": 25,
   "metadata": {},
   "outputs": [
    {
     "name": "stdout",
     "output_type": "stream",
     "text": [
      "Luego de eliminar los valores nulos, tenemos 0 registros repetidos de un total de 3342943\n"
     ]
    }
   ],
   "source": [
    "#EVALUAREMOS SI AÚN QUEDAN REGISTROS REPETIDOS\n",
    "df_nunique = df_with_values.groupby('review_id')['review_id'].nunique()\n",
    "registros_unicos = df_nunique.shape[0]\n",
    "registros_totales = df_with_values.shape[0]\n",
    "registros_repetidos = registros_totales - registros_unicos\n",
    "print(\"Luego de eliminar los valores nulos, tenemos \" \n",
    "      + str(registros_repetidos) + \" registros repetidos de un total de \" + str(registros_totales))"
   ]
  },
  {
   "cell_type": "code",
   "execution_count": 8,
   "metadata": {
    "scrolled": true
   },
   "outputs": [
    {
     "data": {
      "text/plain": [
       "business_id    False\n",
       "cool           False\n",
       "date           False\n",
       "funny          False\n",
       "review_id      False\n",
       "stars          False\n",
       "text           False\n",
       "useful         False\n",
       "user_id        False\n",
       "dtype: bool"
      ]
     },
     "execution_count": 8,
     "metadata": {},
     "output_type": "execute_result"
    }
   ],
   "source": [
    "#3) CORROBORAMOS QUE NO QUEDEN VALORES NaN\n",
    "df_with_values.isnull().any()"
   ]
  },
  {
   "cell_type": "code",
   "execution_count": 10,
   "metadata": {},
   "outputs": [],
   "source": [
    "#EN CONCLUSIÓN, EL 0,002% DEL DATASET FUERON DESCARTADOS POR CONTENER VALORES NULOS"
   ]
  },
  {
   "cell_type": "code",
   "execution_count": 27,
   "metadata": {},
   "outputs": [
    {
     "name": "stdout",
     "output_type": "stream",
     "text": [
      "<class 'pandas.core.frame.DataFrame'>\n",
      "Int64Index: 3342943 entries, 0 to 3342957\n",
      "Data columns (total 9 columns):\n",
      "business_id    object\n",
      "cool           object\n",
      "date           object\n",
      "funny          float64\n",
      "review_id      object\n",
      "stars          float64\n",
      "text           object\n",
      "useful         float64\n",
      "user_id        object\n",
      "dtypes: float64(3), object(6)\n",
      "memory usage: 255.0+ MB\n"
     ]
    }
   ],
   "source": [
    "#ANALIZAMOS NUEVAMENTE LOS TIPOS DE DATOS SOBRE EL DATASET LIMPIO\n",
    "df_with_values.info()"
   ]
  },
  {
   "cell_type": "code",
   "execution_count": 12,
   "metadata": {},
   "outputs": [],
   "source": [
    "#5) PODEMOS COMENZAR A FORZAR LOS TIPOS DE DATOS\n",
    "#CONVERTIMOS LOS TIPOS DE DATOS A INT\n",
    "df_with_values = df_with_values.astype({'cool': 'int32', 'funny': 'int32', 'stars': 'int32', 'useful': 'int32'})\n",
    "\n",
    "#INTENTAMOS CONVERTIR LOS TIPOS DE DATOS OBJECT A STRING PERO VEMOS EN \n",
    "#https://pbpython.com/pandas_dtypes.html QUE LOS TIPOS DE DATOS SON EQUIVALENTE"
   ]
  },
  {
   "cell_type": "code",
   "execution_count": 13,
   "metadata": {},
   "outputs": [
    {
     "name": "stdout",
     "output_type": "stream",
     "text": [
      "<class 'pandas.core.frame.DataFrame'>\n",
      "Int64Index: 3342943 entries, 0 to 3342957\n",
      "Data columns (total 9 columns):\n",
      "business_id    object\n",
      "cool           int32\n",
      "date           object\n",
      "funny          int32\n",
      "review_id      object\n",
      "stars          int32\n",
      "text           object\n",
      "useful         int32\n",
      "user_id        object\n",
      "dtypes: int32(4), object(5)\n",
      "memory usage: 204.0+ MB\n"
     ]
    }
   ],
   "source": [
    "df_with_values.info()"
   ]
  },
  {
   "cell_type": "code",
   "execution_count": 14,
   "metadata": {},
   "outputs": [
    {
     "data": {
      "text/plain": [
       "business_id    False\n",
       "cool           False\n",
       "date           False\n",
       "funny          False\n",
       "review_id      False\n",
       "stars          False\n",
       "text           False\n",
       "useful         False\n",
       "user_id        False\n",
       "dtype: bool"
      ]
     },
     "execution_count": 14,
     "metadata": {},
     "output_type": "execute_result"
    }
   ],
   "source": [
    "#Corroboramos nuevamente si existen valores nulos\n",
    "df_with_values.isnull().any()"
   ]
  },
  {
   "cell_type": "code",
   "execution_count": 15,
   "metadata": {},
   "outputs": [
    {
     "data": {
      "text/plain": [
       "True"
      ]
     },
     "execution_count": 15,
     "metadata": {},
     "output_type": "execute_result"
    }
   ],
   "source": [
    "##ANALIZAMOS SI TENEMOS REGISTROS REPETIDOS\n",
    "##EVALUAMOS SOBRE REVIEW_ID PORQUE CONSIDERAMOS QUE DEBERÍAN SER VALORES ÚNICOS YA QUE ESTAMOS ANALIZANDO REVIEWS \n",
    "#Y NO DEBERÍA HABER MÁS DE UNA REVIEW CON EL MISMO ID\n",
    "df_nunique = df_with_values.groupby('review_id')['review_id'].nunique()\n",
    "df_nunique.shape[0] == df_with_values.shape[0]"
   ]
  },
  {
   "cell_type": "code",
   "execution_count": 16,
   "metadata": {},
   "outputs": [
    {
     "name": "stderr",
     "output_type": "stream",
     "text": [
      "C:\\Users\\Ulises\\Anaconda3\\lib\\site-packages\\scipy\\stats\\stats.py:1713: FutureWarning: Using a non-tuple sequence for multidimensional indexing is deprecated; use `arr[tuple(seq)]` instead of `arr[seq]`. In the future this will be interpreted as an array index, `arr[np.array(seq)]`, which will result either in an error or a different result.\n",
      "  return np.add.reduce(sorted[indexer] * weights, axis=axis) / sumval\n"
     ]
    },
    {
     "data": {
      "text/plain": [
       "<matplotlib.axes._subplots.AxesSubplot at 0x295e02e8a58>"
      ]
     },
     "execution_count": 16,
     "metadata": {},
     "output_type": "execute_result"
    },
    {
     "data": {
      "image/png": "[encoded data removed]",
      "text/plain": [
       "<Figure size 432x288 with 1 Axes>"
      ]
     },
     "metadata": {
      "needs_background": "light"
     },
     "output_type": "display_data"
    }
   ],
   "source": [
    "plt.title('Distribución de Rating')\n",
    "plt.ylabel('Cantidad por Rating')\n",
    "sns.distplot(df_with_values['stars'])"
   ]
  },
  {
   "cell_type": "code",
   "execution_count": 17,
   "metadata": {},
   "outputs": [],
   "source": [
    "##Exploramos correlaciones\n",
    "##ESTO DEMORA DEMASIADO\n",
    "#sns.pairplot(data=df_with_values[[\"funny\", \"cool\", \"useful\", \"stars\"]])"
   ]
  },
  {
   "cell_type": "code",
   "execution_count": null,
   "metadata": {},
   "outputs": [],
   "source": []
  },
  {
   "cell_type": "code",
   "execution_count": null,
   "metadata": {},
   "outputs": [],
   "source": []
  },
  {
   "cell_type": "code",
   "execution_count": null,
   "metadata": {},
   "outputs": [],
   "source": []
  },
  {
   "cell_type": "code",
   "execution_count": null,
   "metadata": {},
   "outputs": [],
   "source": []
  },
  {
   "cell_type": "code",
   "execution_count": null,
   "metadata": {},
   "outputs": [],
   "source": []
  }
 ],
 "metadata": {
  "kernelspec": {
   "display_name": "Python 3",
   "language": "python",
   "name": "python3"
  },
  "language_info": {
   "codemirror_mode": {
    "name": "ipython",
    "version": 3
   },
   "file_extension": ".py",
   "mimetype": "text/x-python",
   "name": "python",
   "nbconvert_exporter": "python",
   "pygments_lexer": "ipython3",
   "version": "3.6.8"
  }
 },
 "nbformat": 4,
 "nbformat_minor": 2
}
