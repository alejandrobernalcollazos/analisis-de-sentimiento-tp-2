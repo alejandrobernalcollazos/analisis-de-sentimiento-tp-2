{
 "cells": [
  {
   "cell_type": "markdown",
   "metadata": {},
   "source": [
    "# Trabajo Practico 2 - Analisis y Curación de datos"
   ]
  },
  {
   "cell_type": "markdown",
   "metadata": {},
   "source": [
    "## Ulises Dascalakis"
   ]
  },
  {
   "cell_type": "markdown",
   "metadata": {},
   "source": [
    "Mail : ulises.dasca@live.com.ar"
   ]
  },
  {
   "cell_type": "markdown",
   "metadata": {},
   "source": [
    "## Alejandro Bernal"
   ]
  },
  {
   "cell_type": "markdown",
   "metadata": {},
   "source": [
    "Mail : alejandro@alejandro.bio"
   ]
  },
  {
   "cell_type": "markdown",
   "metadata": {},
   "source": [
    "# Librerias"
   ]
  },
  {
   "cell_type": "code",
   "execution_count": 58,
   "metadata": {},
   "outputs": [],
   "source": [
    "%matplotlib inline\n",
    "from matplotlib import pyplot as plt\n",
    "import pandas as pd\n",
    "import numpy as np\n",
    "\n",
    "# Realicen en esta celda los imports de librerías que necesiten\n",
    "\n",
    "#Importamos Seaborn para dibujar los gráficos\n",
    "import seaborn as sns\n",
    "import matplotlib.pyplot as plt"
   ]
  },
  {
   "cell_type": "markdown",
   "metadata": {},
   "source": [
    "# Importando data set"
   ]
  },
  {
   "cell_type": "code",
   "execution_count": 59,
   "metadata": {},
   "outputs": [],
   "source": [
    "# Importamos el dataset. Así como el nombre del dataset.\n",
    "# Como el dataset fue creado usando como delimitador un tab, si no lo definimos a la hora de importarlo, se va romper.\n",
    "df = pd.read_csv('data/reviews_yelp_nn.csv', sep='\\t')"
   ]
  },
  {
   "cell_type": "markdown",
   "metadata": {},
   "source": [
    "# Análisis de consistencia/inconsistencia de Datos"
   ]
  },
  {
   "cell_type": "markdown",
   "metadata": {},
   "source": [
    "### 1 Descripción de las features\n",
    "\n",
    "#### Observaciones\n",
    "\n",
    "- La columna \"cool\" tiene datos de distintos tipos, esto nos indica que tal vez debamos hacer una limpieza en esta feature\n",
    "- Las columnas \"stars\", \"useful\", \"funny\" son de tipo númerico y parecen estar relacionadas entre si\n",
    "- La columna \"review_id\" tiene 9 registros vacios que representan casi el 0% de la cantidad de registros\n",
    "\n",
    "<table>\n",
    "    <tr>\n",
    "        <th>Feature</th>\n",
    "        <th>Tipo de dato</th>\n",
    "        <th>Significado</th>\n",
    "    </tr>\n",
    "    <tr>\n",
    "        <td>review_id</td>\n",
    "        <td>string</td>\n",
    "        <td>id de la review</td>\n",
    "    </tr>\n",
    "    <tr>\n",
    "        <td>user_id</td>\n",
    "        <td>string</td>\n",
    "        <td>id del usuario</td>\n",
    "    </tr>\n",
    "    <tr>\n",
    "        <td>business_id</td>\n",
    "        <td>string</td>\n",
    "        <td>id del negocio</td>\n",
    "    </tr>\n",
    "    <tr>\n",
    "        <td>stars</td>\n",
    "        <td>float</td>\n",
    "        <td>el rating recibido</td>\n",
    "    </tr>\n",
    "    <tr>\n",
    "        <td>date</td>\n",
    "        <td>fecha</td>\n",
    "        <td>fecha de la review</td>\n",
    "    </tr>\n",
    "    <tr>\n",
    "        <td>text</td>\n",
    "        <td>string</td>\n",
    "        <td>la review misma del negocio</td>\n",
    "    </tr>\n",
    "    <tr>\n",
    "        <td>useful</td>\n",
    "        <td>float</td>\n",
    "        <td>que tan \"útil\" fue la review</td>\n",
    "    </tr>\n",
    "    <tr>\n",
    "        <td>funny</td>\n",
    "        <td>float</td>\n",
    "        <td>que tan \"divertida\" fue la review</td>\n",
    "    </tr>\n",
    "    <tr>\n",
    "        <td>cool</td>\n",
    "        <td>float - string</td>\n",
    "        <td>que tan \"cool\" fue la review</td>\n",
    "    </tr>\n",
    "</table>"
   ]
  },
  {
   "cell_type": "code",
   "execution_count": 60,
   "metadata": {},
   "outputs": [],
   "source": [
    "### Función para análisis de datos\n",
    "def describe_dataframe(dataframe):\n",
    "    for feature in dataframe.columns.values:\n",
    "        dataframe_unique    = dataframe.groupby(feature)[feature].nunique()\n",
    "        unique_data         = dataframe_unique.min()\n",
    "        data_type           = dataframe[feature].dtypes\n",
    "        empty_records       = dataframe[feature].isna().sum()\n",
    "        unique_records      = dataframe_unique.shape[0]\n",
    "        total_records       = dataframe.shape[0]\n",
    "        repeated_records    = total_records - unique_records\n",
    "        print(\"============\")\n",
    "        print(\"Para la feature       : \" + feature )\n",
    "        print(\"\")\n",
    "        print(\"Tipo de dato          : \" + str(data_type) )\n",
    "        print(\"Cantidad de registros : \" + str(total_records) )\n",
    "        print(\"Registros duplicados  : \" + str(repeated_records)  + \"\\t : Porcentaje : \" + str(round(((repeated_records/total_records)*100), 2))   + \" %\")\n",
    "        print(\"Registros vacios      : \" + str(empty_records)     + \"\\t : Porcentaje : \" + str(round(((empty_records/total_records)*100),    2))   + \" %\")\n",
    "        print(\"Registros unicos      : \" + str(unique_records)    + \"\\t : Porcentaje : \" + str(round(((unique_records/total_records)*100),   2))   + \" %\")\n",
    "        if (dataframe[feature].dtype == \"float64\"):\n",
    "            print(\"\")\n",
    "            print(\"Mínimo            : \" + str(dataframe[feature].min()))\n",
    "            print(\"Máximo            : \" + str(dataframe[feature].max()))\n",
    "            print(\"Promedio          : \" + str(dataframe[feature].mean()))\n",
    "            print(\"Moda              : \" + str(dataframe[feature].mode().iloc[0]))\n",
    "            print(\"\")"
   ]
  },
  {
   "cell_type": "code",
   "execution_count": 61,
   "metadata": {},
   "outputs": [
    {
     "name": "stdout",
     "output_type": "stream",
     "text": [
      "============\n",
      "Para la feature       : business_id\n",
      "\n",
      "Tipo de dato          : object\n",
      "Cantidad de registros : 3342958\n",
      "Registros duplicados  : 3156211\t : Porcentaje : 94.41 %\n",
      "Registros vacios      : 0\t : Porcentaje : 0.0 %\n",
      "Registros unicos      : 186747\t : Porcentaje : 5.59 %\n",
      "============\n",
      "Para la feature       : cool\n",
      "\n",
      "Tipo de dato          : object\n",
      "Cantidad de registros : 3342958\n",
      "Registros duplicados  : 3342710\t : Porcentaje : 99.99 %\n",
      "Registros vacios      : 3\t : Porcentaje : 0.0 %\n",
      "Registros unicos      : 248\t : Porcentaje : 0.01 %\n",
      "============\n",
      "Para la feature       : date\n",
      "\n",
      "Tipo de dato          : object\n",
      "Cantidad de registros : 3342958\n",
      "Registros duplicados  : 33660\t : Porcentaje : 1.01 %\n",
      "Registros vacios      : 5\t : Porcentaje : 0.0 %\n",
      "Registros unicos      : 3309298\t : Porcentaje : 98.99 %\n",
      "============\n",
      "Para la feature       : funny\n",
      "\n",
      "Tipo de dato          : float64\n",
      "Cantidad de registros : 3342958\n",
      "Registros duplicados  : 3342771\t : Porcentaje : 99.99 %\n",
      "Registros vacios      : 9\t : Porcentaje : 0.0 %\n",
      "Registros unicos      : 187\t : Porcentaje : 0.01 %\n",
      "\n",
      "Mínimo            : 0.0\n",
      "Máximo            : 970.0\n",
      "Promedio          : 0.48144856532361097\n",
      "Moda              : 0.0\n",
      "\n",
      "============\n",
      "Para la feature       : review_id\n",
      "\n",
      "Tipo de dato          : object\n",
      "Cantidad de registros : 3342958\n",
      "Registros duplicados  : 9\t : Porcentaje : 0.0 %\n",
      "Registros vacios      : 9\t : Porcentaje : 0.0 %\n",
      "Registros unicos      : 3342949\t : Porcentaje : 100.0 %\n",
      "============\n",
      "Para la feature       : stars\n",
      "\n",
      "Tipo de dato          : float64\n",
      "Cantidad de registros : 3342958\n",
      "Registros duplicados  : 3342953\t : Porcentaje : 100.0 %\n",
      "Registros vacios      : 9\t : Porcentaje : 0.0 %\n",
      "Registros unicos      : 5\t : Porcentaje : 0.0 %\n",
      "\n",
      "Mínimo            : 1.0\n",
      "Máximo            : 5.0\n",
      "Promedio          : 3.716366896413915\n",
      "Moda              : 5.0\n",
      "\n",
      "============\n",
      "Para la feature       : text\n",
      "\n",
      "Tipo de dato          : object\n",
      "Cantidad de registros : 3342958\n",
      "Registros duplicados  : 4465\t : Porcentaje : 0.13 %\n",
      "Registros vacios      : 10\t : Porcentaje : 0.0 %\n",
      "Registros unicos      : 3338493\t : Porcentaje : 99.87 %\n",
      "============\n",
      "Para la feature       : useful\n",
      "\n",
      "Tipo de dato          : float64\n",
      "Cantidad de registros : 3342958\n",
      "Registros duplicados  : 3342726\t : Porcentaje : 99.99 %\n",
      "Registros vacios      : 14\t : Porcentaje : 0.0 %\n",
      "Registros unicos      : 232\t : Porcentaje : 0.01 %\n",
      "\n",
      "Mínimo            : -1.0\n",
      "Máximo            : 1122.0\n",
      "Promedio          : 1.3520423913771813\n",
      "Moda              : 0.0\n",
      "\n",
      "============\n",
      "Para la feature       : user_id\n",
      "\n",
      "Tipo de dato          : object\n",
      "Cantidad de registros : 3342958\n",
      "Registros duplicados  : 2228110\t : Porcentaje : 66.65 %\n",
      "Registros vacios      : 14\t : Porcentaje : 0.0 %\n",
      "Registros unicos      : 1114848\t : Porcentaje : 33.35 %\n"
     ]
    }
   ],
   "source": [
    "### Función para análisis de datos\n",
    "describe_dataframe(df)"
   ]
  },
  {
   "cell_type": "code",
   "execution_count": 62,
   "metadata": {
    "scrolled": true
   },
   "outputs": [
    {
     "name": "stdout",
     "output_type": "stream",
     "text": [
      "<class 'pandas.core.frame.DataFrame'>\n",
      "RangeIndex: 3342958 entries, 0 to 3342957\n",
      "Data columns (total 9 columns):\n",
      "business_id    object\n",
      "cool           object\n",
      "date           object\n",
      "funny          float64\n",
      "review_id      object\n",
      "stars          float64\n",
      "text           object\n",
      "useful         float64\n",
      "user_id        object\n",
      "dtypes: float64(3), object(6)\n",
      "memory usage: 229.5+ MB\n"
     ]
    }
   ],
   "source": [
    "#Usamos la función info de pandas para obtener info del dataframe\n",
    "df.info()\n",
    "\n",
    "#También podemos utilizar dtypes, pero esta función muestra solo los tipos de datos\n",
    "#df.dtypes"
   ]
  },
  {
   "cell_type": "code",
   "execution_count": 63,
   "metadata": {},
   "outputs": [
    {
     "data": {
      "text/plain": [
       "business_id    False\n",
       "cool            True\n",
       "date            True\n",
       "funny           True\n",
       "review_id       True\n",
       "stars           True\n",
       "text            True\n",
       "useful          True\n",
       "user_id         True\n",
       "dtype: bool"
      ]
     },
     "execution_count": 63,
     "metadata": {},
     "output_type": "execute_result"
    }
   ],
   "source": [
    "#Evaluamos si hay registros NaN\n",
    "df.isnull().any()\n",
    "#VEMOS QUE HAY REGISTROS NULL PARA TODOS LOS CAMPOS MENOS PARA business_id"
   ]
  },
  {
   "cell_type": "markdown",
   "metadata": {},
   "source": [
    "## 1.1 Siempre es bueno tratar de trabajar sin duplicados en un dataset, esto nos evita problemas futuros en el entrenamiento. Verifique si existen datos repetidos y proceda en consecuencia"
   ]
  },
  {
   "cell_type": "code",
   "execution_count": 64,
   "metadata": {},
   "outputs": [
    {
     "name": "stdout",
     "output_type": "stream",
     "text": [
      "Tenemos 9 registros repetidos de un total de 3342958\n"
     ]
    }
   ],
   "source": [
    "##ANALIZAMOS SI TENEMOS REGISTROS REPETIDOS\n",
    "##EVALUAMOS SOBRE REVIEW_ID PORQUE CONSIDERAMOS QUE DEBERÍAN SER VALORES ÚNICOS YA QUE ESTAMOS ANALIZANDO REVIEWS \n",
    "#Y NO DEBERÍA HABER DOS REVIEW CON EL MISMO ID\n",
    "df_nunique = df.groupby('review_id')['review_id'].nunique()\n",
    "registros_unicos = df_nunique.shape[0]\n",
    "registros_totales = df.shape[0]\n",
    "registros_repetidos = registros_totales - registros_unicos\n",
    "print(\"Tenemos \" + str(registros_repetidos) + \" registros repetidos de un total de \" + str(registros_totales))"
   ]
  },
  {
   "cell_type": "code",
   "execution_count": 65,
   "metadata": {},
   "outputs": [
    {
     "name": "stdout",
     "output_type": "stream",
     "text": [
      "Encontramos 73 registros con valores nulos de un total de 3342958 registros totales con una participación del 0.0022%\n"
     ]
    }
   ],
   "source": [
    "#COMO TAMBIÉN TENEMOS VALORES NULOS, DIMENSIONAMOS LOS DATOS QUE PERDEMOS PARA EL ANÁLISIS\n",
    "registros_con_valores_nulos = len(df.isnull().values[df.isnull().values == True])\n",
    "registros_totales = len(df.values)\n",
    "participacion_nulos = ((registros_con_valores_nulos / registros_totales) * 100)\n",
    "print('Encontramos ' + str(registros_con_valores_nulos) \n",
    "      + ' registros con valores nulos de un total de ' + str(registros_totales) + ' registros totales'\n",
    "     + ' con una participación del ' + str(round(participacion_nulos, 4)) + '%')"
   ]
  },
  {
   "cell_type": "code",
   "execution_count": 66,
   "metadata": {},
   "outputs": [
    {
     "name": "stdout",
     "output_type": "stream",
     "text": [
      "Luego de eliminar los registros nulos, nos quedan 3342943 para el análisis\n"
     ]
    }
   ],
   "source": [
    "#ELIMINAMOS LOS REGISTROS CON NULOS \n",
    "df_with_values = df.dropna()\n",
    "registros_totales = df_with_values.shape[0]\n",
    "print(\"Luego de eliminar los registros nulos, nos quedan \" + str(registros_totales) + ' para el análisis')"
   ]
  },
  {
   "cell_type": "code",
   "execution_count": 67,
   "metadata": {},
   "outputs": [
    {
     "name": "stdout",
     "output_type": "stream",
     "text": [
      "Luego de eliminar los valores nulos, tenemos 0 registros repetidos de un total de 3342943\n"
     ]
    }
   ],
   "source": [
    "#EVALUAREMOS SI AÚN QUEDAN REGISTROS REPETIDOS\n",
    "df_nunique = df_with_values.groupby('review_id')['review_id'].nunique()\n",
    "registros_unicos = df_nunique.shape[0]\n",
    "registros_totales = df_with_values.shape[0]\n",
    "registros_repetidos = registros_totales - registros_unicos\n",
    "print(\"Luego de eliminar los valores nulos, tenemos \" \n",
    "      + str(registros_repetidos) + \" registros repetidos de un total de \" + str(registros_totales))"
   ]
  },
  {
   "cell_type": "code",
   "execution_count": 68,
   "metadata": {
    "scrolled": true
   },
   "outputs": [
    {
     "data": {
      "text/plain": [
       "business_id    False\n",
       "cool           False\n",
       "date           False\n",
       "funny          False\n",
       "review_id      False\n",
       "stars          False\n",
       "text           False\n",
       "useful         False\n",
       "user_id        False\n",
       "dtype: bool"
      ]
     },
     "execution_count": 68,
     "metadata": {},
     "output_type": "execute_result"
    }
   ],
   "source": [
    "#3) CORROBORAMOS QUE NO QUEDEN VALORES NaN\n",
    "df_with_values.isnull().any()"
   ]
  },
  {
   "cell_type": "code",
   "execution_count": 69,
   "metadata": {},
   "outputs": [],
   "source": [
    "#EN CONCLUSIÓN, EL 0,002% DEL DATASET FUERON DESCARTADOS POR CONTENER VALORES NULOS"
   ]
  },
  {
   "cell_type": "code",
   "execution_count": 70,
   "metadata": {},
   "outputs": [
    {
     "name": "stdout",
     "output_type": "stream",
     "text": [
      "<class 'pandas.core.frame.DataFrame'>\n",
      "Int64Index: 3342943 entries, 0 to 3342957\n",
      "Data columns (total 9 columns):\n",
      "business_id    object\n",
      "cool           object\n",
      "date           object\n",
      "funny          float64\n",
      "review_id      object\n",
      "stars          float64\n",
      "text           object\n",
      "useful         float64\n",
      "user_id        object\n",
      "dtypes: float64(3), object(6)\n",
      "memory usage: 255.0+ MB\n"
     ]
    }
   ],
   "source": [
    "#ANALIZAMOS NUEVAMENTE LOS TIPOS DE DATOS SOBRE EL DATASET LIMPIO\n",
    "df_with_values.info()"
   ]
  },
  {
   "cell_type": "code",
   "execution_count": 71,
   "metadata": {},
   "outputs": [],
   "source": [
    "#5) PODEMOS COMENZAR A FORZAR LOS TIPOS DE DATOS\n",
    "#CONVERTIMOS LOS TIPOS DE DATOS A INT\n",
    "df_with_values = df_with_values.astype({'cool': 'int32', 'funny': 'int32', 'stars': 'int32', 'useful': 'int32'})\n",
    "\n",
    "#INTENTAMOS CONVERTIR LOS TIPOS DE DATOS OBJECT A STRING PERO VEMOS EN \n",
    "#https://pbpython.com/pandas_dtypes.html QUE LOS TIPOS DE DATOS SON EQUIVALENTE"
   ]
  },
  {
   "cell_type": "code",
   "execution_count": 72,
   "metadata": {},
   "outputs": [
    {
     "name": "stdout",
     "output_type": "stream",
     "text": [
      "<class 'pandas.core.frame.DataFrame'>\n",
      "Int64Index: 3342943 entries, 0 to 3342957\n",
      "Data columns (total 9 columns):\n",
      "business_id    object\n",
      "cool           int32\n",
      "date           object\n",
      "funny          int32\n",
      "review_id      object\n",
      "stars          int32\n",
      "text           object\n",
      "useful         int32\n",
      "user_id        object\n",
      "dtypes: int32(4), object(5)\n",
      "memory usage: 204.0+ MB\n"
     ]
    }
   ],
   "source": [
    "df_with_values.info()"
   ]
  },
  {
   "cell_type": "code",
   "execution_count": 73,
   "metadata": {},
   "outputs": [
    {
     "data": {
      "text/plain": [
       "business_id    False\n",
       "cool           False\n",
       "date           False\n",
       "funny          False\n",
       "review_id      False\n",
       "stars          False\n",
       "text           False\n",
       "useful         False\n",
       "user_id        False\n",
       "dtype: bool"
      ]
     },
     "execution_count": 73,
     "metadata": {},
     "output_type": "execute_result"
    }
   ],
   "source": [
    "#Corroboramos nuevamente si existen valores nulos\n",
    "df_with_values.isnull().any()"
   ]
  },
  {
   "cell_type": "code",
   "execution_count": 74,
   "metadata": {},
   "outputs": [
    {
     "data": {
      "text/plain": [
       "True"
      ]
     },
     "execution_count": 74,
     "metadata": {},
     "output_type": "execute_result"
    }
   ],
   "source": [
    "##ANALIZAMOS SI TENEMOS REGISTROS REPETIDOS\n",
    "##EVALUAMOS SOBRE REVIEW_ID PORQUE CONSIDERAMOS QUE DEBERÍAN SER VALORES ÚNICOS YA QUE ESTAMOS ANALIZANDO REVIEWS \n",
    "#Y NO DEBERÍA HABER MÁS DE UNA REVIEW CON EL MISMO ID\n",
    "df_nunique = df_with_values.groupby('review_id')['review_id'].nunique()\n",
    "df_nunique.shape[0] == df_with_values.shape[0]"
   ]
  },
  {
   "cell_type": "markdown",
   "metadata": {},
   "source": [
    "### Buscando Outliers"
   ]
  },
  {
   "cell_type": "code",
   "execution_count": 88,
   "metadata": {},
   "outputs": [
    {
     "data": {
      "text/plain": [
       "Text(0.5, 1.0, 'Outliers de la feature : stars ')"
      ]
     },
     "execution_count": 88,
     "metadata": {},
     "output_type": "execute_result"
    },
    {
     "data": {
      "image/png": "[encoded data removed]",
      "text/plain": [
       "<Figure size 1152x432 with 1 Axes>"
      ]
     },
     "metadata": {},
     "output_type": "display_data"
    }
   ],
   "source": [
    "# Buscando outliers para la feature stars\n",
    "sns.set(style=\"whitegrid\")\n",
    "plt.figure(figsize=(16, 6))\n",
    "\n",
    "sns.boxplot(x=df_with_values[\"stars\"]).set_title(\"Outliers de la feature : stars \", fontsize=20)"
   ]
  },
  {
   "cell_type": "code",
   "execution_count": 89,
   "metadata": {},
   "outputs": [
    {
     "data": {
      "text/plain": [
       "Text(0.5, 1.0, 'Outliers de la feature : cool')"
      ]
     },
     "execution_count": 89,
     "metadata": {},
     "output_type": "execute_result"
    },
    {
     "data": {
      "image/png": "[encoded data removed]",
      "text/plain": [
       "<Figure size 1152x432 with 1 Axes>"
      ]
     },
     "metadata": {},
     "output_type": "display_data"
    }
   ],
   "source": [
    "# Buscando outliers para la feature cool\n",
    "sns.set(style=\"whitegrid\")\n",
    "plt.figure(figsize=(16, 6))\n",
    "\n",
    "sns.boxplot(x=df_with_values[\"cool\"]).set_title(\"Outliers de la feature : cool\", fontsize=20)"
   ]
  },
  {
   "cell_type": "code",
   "execution_count": 90,
   "metadata": {},
   "outputs": [
    {
     "data": {
      "text/plain": [
       "Text(0.5, 1.0, 'Outliers de la feature : funny')"
      ]
     },
     "execution_count": 90,
     "metadata": {},
     "output_type": "execute_result"
    },
    {
     "data": {
      "image/png": "[encoded data removed]",
      "text/plain": [
       "<Figure size 1152x432 with 1 Axes>"
      ]
     },
     "metadata": {},
     "output_type": "display_data"
    }
   ],
   "source": [
    "# Buscando outliers para la feature cool\n",
    "sns.set(style=\"whitegrid\")\n",
    "plt.figure(figsize=(16, 6))\n",
    "\n",
    "sns.boxplot(x=df_with_values[\"funny\"]).set_title(\"Outliers de la feature : funny\", fontsize=20)"
   ]
  },
  {
   "cell_type": "code",
   "execution_count": 91,
   "metadata": {},
   "outputs": [
    {
     "data": {
      "text/plain": [
       "Text(0.5, 1.0, 'Outliers de la feature : useful')"
      ]
     },
     "execution_count": 91,
     "metadata": {},
     "output_type": "execute_result"
    },
    {
     "data": {
      "image/png": "[encoded data removed]",
      "text/plain": [
       "<Figure size 1152x432 with 1 Axes>"
      ]
     },
     "metadata": {},
     "output_type": "display_data"
    }
   ],
   "source": [
    "# Buscando outliers para la feature cool\n",
    "sns.set(style=\"whitegrid\")\n",
    "plt.figure(figsize=(16, 6))\n",
    "\n",
    "sns.boxplot(x=df_with_values[\"useful\"]).set_title(\"Outliers de la feature : useful\", fontsize=20)"
   ]
  },
  {
   "cell_type": "markdown",
   "metadata": {},
   "source": [
    "### Distribución de los Rating"
   ]
  },
  {
   "cell_type": "code",
   "execution_count": 93,
   "metadata": {},
   "outputs": [
    {
     "data": {
      "text/plain": [
       "<matplotlib.axes._subplots.AxesSubplot at 0x1a468b4198>"
      ]
     },
     "execution_count": 93,
     "metadata": {},
     "output_type": "execute_result"
    },
    {
     "data": {
      "image/png": "[encoded data removed]",
      "text/plain": [
       "<Figure size 1152x432 with 1 Axes>"
      ]
     },
     "metadata": {},
     "output_type": "display_data"
    }
   ],
   "source": [
    "plt.figure(figsize=(16, 6))\n",
    "plt.title('Distribución de Rating')\n",
    "plt.ylabel('Cantidad por Rating')\n",
    "sns.distplot(df_with_values['stars'])"
   ]
  },
  {
   "cell_type": "code",
   "execution_count": 17,
   "metadata": {},
   "outputs": [],
   "source": [
    "##Exploramos correlaciones\n",
    "##ESTO DEMORA DEMASIADO\n",
    "#sns.pairplot(data=df_with_values[[\"funny\", \"cool\", \"useful\", \"stars\"]])"
   ]
  }
 ],
 "metadata": {
  "kernelspec": {
   "display_name": "Python 3",
   "language": "python",
   "name": "python3"
  },
  "language_info": {
   "codemirror_mode": {
    "name": "ipython",
    "version": 3
   },
   "file_extension": ".py",
   "mimetype": "text/x-python",
   "name": "python",
   "nbconvert_exporter": "python",
   "pygments_lexer": "ipython3",
   "version": "3.6.8"
  }
 },
 "nbformat": 4,
 "nbformat_minor": 2
}
